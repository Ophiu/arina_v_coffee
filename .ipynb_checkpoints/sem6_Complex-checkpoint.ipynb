{
 "cells": [
  {
   "cell_type": "code",
   "execution_count": 9,
   "metadata": {},
   "outputs": [
    {
     "name": "stdout",
     "output_type": "stream",
     "text": [
      "1 2\n",
      "2 3\n",
      "A + B = 3 + 5 i\n",
      "A - B = -1 + -1 i\n",
      "A * B = -4 + 7 i\n",
      "A / B = 0.6153846153846154 + 0.07692307692307693 i\n",
      "|A| = 2.23606797749979\n",
      "|B| = 3.605551275463989\n"
     ]
    }
   ],
   "source": [
    "class Complex():\n",
    "    def __init__(self, x = 0, y = 0):\n",
    "        self.x = x\n",
    "        self.y = y\n",
    "    def __add__(self, other):\n",
    "        return Complex(self.x + other.x, self.y + other.y)\n",
    "    def __sub__(self, other):\n",
    "        return Complex(self.x - other.x, self.y - other.y)\n",
    "    def __mul__(self, other):\n",
    "        return Complex(self.x * other.x - self.y * other.y, self.x * other.y + self.y * other.x)\n",
    "    def __truediv__(self, other):\n",
    "        return Complex((self.x * other.x + self.y * other.y)/(other.x * other.x + other.y * other.y), (-self.x * other.y + self.y * other.x)/(other.x * other.x + other.y * other.y))\n",
    "    def __abs__(self):\n",
    "        return Complex(self.x * self.x, self.y * self.y)\n",
    "\n",
    "x1, y1 = map(int, input().split())\n",
    "x2, y2 = map(int, input().split())\n",
    "A = Complex(x1, y1)\n",
    "B = Complex(x2, y2)\n",
    "C1 = A + B\n",
    "C2 = A - B\n",
    "C3 = A * B\n",
    "C4 = A / B\n",
    "print('A + B =', C1.x, '+', C1.y, 'i')\n",
    "print('A - B =', C2.x, '+', C2.y, 'i')\n",
    "print('A * B =', C3.x, '+', C3.y, 'i')\n",
    "print('A / B =', C4.x, '+', C4.y, 'i')\n",
    "MA = abs(A)\n",
    "CA5 = (MA.x + MA.y)**(1/2)\n",
    "MB = abs(B)\n",
    "CB5 = (MB.x + MB.y)**(1/2)\n",
    "print('|A| =', CA5)\n",
    "print('|B| =', CB5)"
   ]
  },
  {
   "cell_type": "code",
   "execution_count": null,
   "metadata": {},
   "outputs": [],
   "source": []
  }
 ],
 "metadata": {
  "kernelspec": {
   "display_name": "Python 3",
   "language": "python",
   "name": "python3"
  },
  "language_info": {
   "codemirror_mode": {
    "name": "ipython",
    "version": 3
   },
   "file_extension": ".py",
   "mimetype": "text/x-python",
   "name": "python",
   "nbconvert_exporter": "python",
   "pygments_lexer": "ipython3",
   "version": "3.7.6"
  }
 },
 "nbformat": 4,
 "nbformat_minor": 4
}
