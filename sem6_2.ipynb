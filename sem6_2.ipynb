{
 "cells": [
  {
   "cell_type": "code",
   "execution_count": 7,
   "metadata": {},
   "outputs": [
    {
     "name": "stdout",
     "output_type": "stream",
     "text": [
      "1 2 3\n",
      "3 4 5\n",
      "4.898979485566356\n"
     ]
    }
   ],
   "source": [
    "#площадь параллелограма из 2-ух векторов (трехмер)\n",
    "class Vector():\n",
    "    def __init__(self, x = 0, y = 0, z = 0):\n",
    "        self.x = x\n",
    "        self.y = y\n",
    "        self.z = z\n",
    "    def __matmul__(self, other):\n",
    "        return Vector(self.y * other.z - self.z * other.y, -(self.x * other.z - self.z * other.x), self.x * other.y - self.y * other.x)\n",
    "\n",
    "ax, ay, az = map(int, input().split())\n",
    "bx, by, bz = map(int, input().split())\n",
    "A = Vector(ax, ay, az)\n",
    "B = Vector(bx, by, bz)\n",
    "C = A @ B\n",
    "S = (C.x * C.x + C.y * C.y + C.z * C.z)**(1/2)\n",
    "print(S)"
   ]
  },
  {
   "cell_type": "code",
   "execution_count": 11,
   "metadata": {},
   "outputs": [
    {
     "name": "stdout",
     "output_type": "stream",
     "text": [
      "1 2 3\n",
      "6 5 4\n",
      "9 8 0\n",
      "16.333333333333332\n"
     ]
    }
   ],
   "source": [
    "#объем параллепипеда из 3-ух векторов (трехмер)\n",
    "class Vector():\n",
    "    def __init__(self, x = 0, y = 0, z = 0):\n",
    "        self.x = x\n",
    "        self.y = y\n",
    "        self.z = z\n",
    "    def __matmul__(self, other):\n",
    "        return Vector(self.y * other.z - self.z * other.y, -(self.x * other.z - self.z * other.x), self.x * other.y - self.y * other.x)\n",
    "    def __mul__(self, other):\n",
    "        return Vector(self.x * other.x, self.y * other.y, self.z * other.z)\n",
    "\n",
    "ax, ay, az = map(int, input().split())\n",
    "bx, by, bz = map(int, input().split())\n",
    "cx, cy, cz = map(int, input().split())\n",
    "A = Vector(ax, ay, az)\n",
    "B = Vector(bx, by, bz)\n",
    "C = Vector(cx, cy, cz)\n",
    "D = A @ B\n",
    "E = C * D\n",
    "S = (E.x + E.y + E.z)/3\n",
    "print(S)"
   ]
  },
  {
   "cell_type": "code",
   "execution_count": 36,
   "metadata": {},
   "outputs": [
    {
     "name": "stdout",
     "output_type": "stream",
     "text": [
      "2\n",
      "2 4 6\n",
      "4 2 8\n",
      "3.0 3.0 7.0\n"
     ]
    }
   ],
   "source": [
    "#центр масс множества точек (трехмер)\n",
    "class Vector():\n",
    "    def __init__(self, x = 0, y = 0, z = 0):\n",
    "        self.x = x\n",
    "        self.y = y\n",
    "        self.z = z\n",
    "    def __add__(self, other):\n",
    "        return Vector(self.x + other.x, self.y + other.y, self.z + other.z)\n",
    "    def __truediv__(self, other):\n",
    "        return Vector(self.x / other.x, self.y / other.y, self.z / other.z)\n",
    "        \n",
    "n = int(input())\n",
    "X = Vector(n, n, n)\n",
    "ax, ay, az = map(int, input().split())\n",
    "A = Vector(ax, ay, az)\n",
    "while n - 1 != 0:\n",
    "    bx, by, bz = map(int, input().split())\n",
    "    B = Vector(bx, by, bz)\n",
    "    A = A + B\n",
    "    n -= 1\n",
    "C = A / X\n",
    "print(C.x, C.y, C.z)"
   ]
  },
  {
   "cell_type": "code",
   "execution_count": 41,
   "metadata": {},
   "outputs": [
    {
     "name": "stdout",
     "output_type": "stream",
     "text": [
      "2\n",
      "57 2 3\n",
      "99 33 1\n",
      "99 33 1\n"
     ]
    }
   ],
   "source": [
    "#наиболее удаленная точка от начала координат (трехмер)\n",
    "class Vector():\n",
    "    def __init__(self, x = 0, y = 0, z = 0):\n",
    "        self.x = x\n",
    "        self.y = y\n",
    "        self.z = z\n",
    "    def __mul__(self, other):\n",
    "        return Vector(self.x * other.x, self.y * other.y, self.z * other.z)\n",
    "\n",
    "    \n",
    "n = int(input())\n",
    "arr = []\n",
    "while n != 0:\n",
    "    ax, ay, az = map(int, input().split())\n",
    "    A = Vector(ax, ay, az)\n",
    "    C = A * A\n",
    "    L = (C.x + C.y + C.z)**(1/2)\n",
    "    arr.append(L)\n",
    "    if L == max(arr):\n",
    "        K = A\n",
    "    n -= 1\n",
    "print(K.x, K.y, K.z)"
   ]
  },
  {
   "cell_type": "code",
   "execution_count": null,
   "metadata": {},
   "outputs": [],
   "source": [
    "#три точки, образующие треугольник с наибольшим периметром (двумер)\n",
    "class Vector():\n",
    "    def __init__(self, x = 0, y = 0):\n",
    "        self.x = x\n",
    "        self.y = y\n",
    "    def __mul__(self, other):\n",
    "        return Vector(self.x * other.x, self.y * other.y, self.z * other.z)\n",
    "    def __sub__(self, other):\n",
    "        return Vector(self.x - other.x, self.y - other.y, self.z - other.z)\n",
    "        \n",
    "        \n",
    "n = int(input())\n",
    "arr = []\n",
    "ax, ay, az = map(int, input().split())\n",
    "A = Vector(ax, ay, az)\n",
    "while n != 0:\n",
    "    bx, by, bz = map(int, input().split())\n",
    "    B = Vector(bx, by, bz)\n",
    "    C = A - B\n",
    "    D = C * C\n",
    "    L = (D.x + D.y + D.z)**(1/2)\n",
    "    arr.append(L)\n",
    "    if L == max(arr):\n",
    "        K = A\n",
    "        ar = max(arr)\n",
    "        arr.remove(ar)\n",
    "    n -= 1\n",
    "print(K.x, K.y, K.z)"
   ]
  }
 ],
 "metadata": {
  "kernelspec": {
   "display_name": "Python 3",
   "language": "python",
   "name": "python3"
  },
  "language_info": {
   "codemirror_mode": {
    "name": "ipython",
    "version": 3
   },
   "file_extension": ".py",
   "mimetype": "text/x-python",
   "name": "python",
   "nbconvert_exporter": "python",
   "pygments_lexer": "ipython3",
   "version": "3.7.6"
  }
 },
 "nbformat": 4,
 "nbformat_minor": 4
}
