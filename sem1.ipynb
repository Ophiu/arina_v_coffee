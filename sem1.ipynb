{
 "cells": [
  {
   "cell_type": "code",
   "execution_count": 14,
   "metadata": {},
   "outputs": [
    {
     "name": "stdout",
     "output_type": "stream",
     "text": [
      "1\n",
      "22\n",
      "43\n",
      "End\n",
      "43 1 22.0 21.0\n"
     ]
    }
   ],
   "source": [
    "n = int(input())\n",
    "k = 1\n",
    "arr = []\n",
    "arr.append(n)\n",
    "while n != 'End':\n",
    "    n = input()\n",
    "    arr.append(n)\n",
    "    k += 1\n",
    "arr.pop()\n",
    "brr = list(map(int, arr))\n",
    "br = len(brr)\n",
    "c1 = max(brr)\n",
    "c2 = min(brr)\n",
    "c3 = sum(brr) / br\n",
    "m = 0\n",
    "for i in brr:\n",
    "    m += (i - c3)**2\n",
    "c4 = (m / (br - 1))**(1/2)\n",
    "print(c1, c2, c3, c4)"
   ]
  },
  {
   "cell_type": "code",
   "execution_count": 22,
   "metadata": {},
   "outputs": [
    {
     "name": "stdout",
     "output_type": "stream",
     "text": [
      "2\n",
      "4\n",
      "6\n",
      "1\n",
      "35\n",
      "3\n",
      "End\n",
      "[1, 2, 3, 4, 6, 35]\n"
     ]
    }
   ],
   "source": [
    "def bubble_sort(array):\n",
    "    n = len(array)\n",
    "    for bypass in range(1, n):\n",
    "        for k in range(0, n - bypass):\n",
    "            if array[k] > array[k + 1]:\n",
    "                array[k], array[k + 1] = array[k + 1], array[k]\n",
    "    return array\n",
    "\n",
    "n = int(input())\n",
    "arr = []\n",
    "arr.append(n)\n",
    "while n != 'End':\n",
    "    n = input()\n",
    "    arr.append(n)\n",
    "arr.pop()\n",
    "brr = list(map(int, arr))\n",
    "print(bubble_sort(brr))"
   ]
  },
  {
   "cell_type": "code",
   "execution_count": 27,
   "metadata": {},
   "outputs": [
    {
     "name": "stdout",
     "output_type": "stream",
     "text": [
      "female\n"
     ]
    }
   ],
   "source": [
    "gender_dict = {0: 'male',\n",
    "               1: 'agender',\n",
    "               2: 'female'}\n",
    "\n",
    "print(gender_dict[2])"
   ]
  },
  {
   "cell_type": "code",
   "execution_count": 34,
   "metadata": {},
   "outputs": [
    {
     "name": "stdout",
     "output_type": "stream",
     "text": [
      "['1', '81', '121', '361', '441', '841', '961', '1521', '1681', '2401']\n"
     ]
    }
   ],
   "source": [
    "hrr = []\n",
    "for i in range(1, 50):\n",
    "    n = i**2\n",
    "    hrr.append(n)\n",
    "grr = list(map(str, hrr))\n",
    "frr = []\n",
    "for i in grr:\n",
    "    b = i[-1]\n",
    "    if b == \"1\":\n",
    "        frr.append(i)\n",
    "print(frr)"
   ]
  },
  {
   "cell_type": "code",
   "execution_count": null,
   "metadata": {},
   "outputs": [],
   "source": []
  }
 ],
 "metadata": {
  "kernelspec": {
   "display_name": "Python 3",
   "language": "python",
   "name": "python3"
  },
  "language_info": {
   "codemirror_mode": {
    "name": "ipython",
    "version": 3
   },
   "file_extension": ".py",
   "mimetype": "text/x-python",
   "name": "python",
   "nbconvert_exporter": "python",
   "pygments_lexer": "ipython3",
   "version": "3.7.6"
  }
 },
 "nbformat": 4,
 "nbformat_minor": 4
}
