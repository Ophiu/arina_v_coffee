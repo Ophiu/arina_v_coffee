{
 "cells": [
  {
   "cell_type": "code",
   "execution_count": 15,
   "metadata": {},
   "outputs": [
    {
     "name": "stdout",
     "output_type": "stream",
     "text": [
      "3\n",
      "4\n",
      "12\n",
      "6.0\n"
     ]
    }
   ],
   "source": [
    "class Shape:\n",
    "    def __init__(self, a, b):\n",
    "        self.a = a\n",
    "        self.b = b\n",
    "\n",
    "class Triangle(Shape):\n",
    "    def area(self, a, b):\n",
    "        g = a * b\n",
    "        return g\n",
    "\n",
    "class Rectangle(Shape):\n",
    "    def area(self, a, b):\n",
    "        s = (a * b / 2)\n",
    "        return s\n",
    "\n",
    "a = int(input())\n",
    "b = int(input())\n",
    "st = Triangle(a, b)\n",
    "sr = Rectangle(a, b)\n",
    "print(st.area(a, b))\n",
    "print(sr.area(a, b))"
   ]
  },
  {
   "cell_type": "code",
   "execution_count": 18,
   "metadata": {},
   "outputs": [
    {
     "name": "stdout",
     "output_type": "stream",
     "text": [
      "My daughter adores OOP\n",
      "I adore OOP\n"
     ]
    }
   ],
   "source": [
    "class Mother:\n",
    "    def adoration(self):\n",
    "        print(\"My daughter adores OOP\")\n",
    "\n",
    "class Daughter(Mother):\n",
    "    def adoration(self):\n",
    "        print(\"I adore OOP\")\n",
    "\n",
    "m = Mother()\n",
    "d = Daughter()\n",
    "m.adoration()\n",
    "d.adoration()"
   ]
  },
  {
   "cell_type": "code",
   "execution_count": 20,
   "metadata": {},
   "outputs": [
    {
     "name": "stdout",
     "output_type": "stream",
     "text": [
      "Имя: Венера; Возраст: 3; Информация: саванная зебра.\n",
      "Имя: Робин; Возраст: 4; Информация: черноморская афалина.\n"
     ]
    }
   ],
   "source": [
    "class Animal:\n",
    "    def __init__(self, name, age, extra):  \n",
    "        self.name = name  \n",
    "        self.age = age\n",
    "        self.extra = extra\n",
    "\n",
    "class Zebra(Animal):\n",
    "    def zebras_descriprion(self):  \n",
    "        print('Имя: {}; Возраст: {}; Информация: {}.'.format(self.name, self.age, self.extra)) \n",
    "\n",
    "class Dolphin(Animal):\n",
    "    def dolphins_descriprion(self):  \n",
    "        print('Имя: {}; Возраст: {}; Информация: {}.'.format(self.name, self.age, self.extra)) \n",
    "        \n",
    "        \n",
    "z = Zebra(\"Венера\", 3, \"саванная зебра\") \n",
    "d = Dolphin(\"Робин\", 4, \"черноморская афалина\") \n",
    "z.zebras_descriprion()\n",
    "d.dolphins_descriprion()"
   ]
  },
  {
   "cell_type": "code",
   "execution_count": null,
   "metadata": {},
   "outputs": [],
   "source": []
  }
 ],
 "metadata": {
  "kernelspec": {
   "display_name": "Python 3",
   "language": "python",
   "name": "python3"
  },
  "language_info": {
   "codemirror_mode": {
    "name": "ipython",
    "version": 3
   },
   "file_extension": ".py",
   "mimetype": "text/x-python",
   "name": "python",
   "nbconvert_exporter": "python",
   "pygments_lexer": "ipython3",
   "version": "3.7.6"
  }
 },
 "nbformat": 4,
 "nbformat_minor": 4
}
