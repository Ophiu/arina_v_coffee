{
 "cells": [
  {
   "cell_type": "code",
   "execution_count": 5,
   "metadata": {},
   "outputs": [
    {
     "name": "stderr",
     "output_type": "stream",
     "text": [
      "usage: ipykernel_launcher.py [-h] [-n N]\n",
      "ipykernel_launcher.py: error: unrecognized arguments: -f /Users/arinaradischeva/Library/Jupyter/runtime/kernel-8774ac39-3a99-49fa-b9ef-92b06dd0dea3.json\n"
     ]
    },
    {
     "ename": "SystemExit",
     "evalue": "2",
     "output_type": "error",
     "traceback": [
      "An exception has occurred, use %tb to see the full traceback.\n",
      "\u001b[0;31mSystemExit\u001b[0m\u001b[0;31m:\u001b[0m 2\n"
     ]
    }
   ],
   "source": [
    "import sys\n",
    "import argparse\n",
    "\n",
    "def fib(n):\n",
    "    cur = 1\n",
    "    if n > 2:\n",
    "        cur = fib(n - 1) + fib(n - 2)\n",
    "    return cur\n",
    " \n",
    "def createParser ():\n",
    "    parser = argparse.ArgumentParser()\n",
    "    parser.add_argument ('-n', default = 1, type = int)\n",
    " \n",
    "    return parser\n",
    " \n",
    " \n",
    "if __name__ == '__main__':\n",
    "    parser = createParser()\n",
    "    namespace = parser.parse_args(sys.argv[1:])\n",
    " \n",
    "    print (namespace)\n",
    "    \n",
    "    v = fib(namespacce)\n",
    "    print(v)"
   ]
  },
  {
   "cell_type": "code",
   "execution_count": 24,
   "metadata": {},
   "outputs": [
    {
     "name": "stdout",
     "output_type": "stream",
     "text": [
      "2 4 46 6 3 2 4 90 72 4 69 2 48 183 293 28 77 3 3 4 5 2 76 39 88 2 4\n",
      "2 4 46 6 2 4 90 72 4 2 48 28 4 2 76 88 2 4\n"
     ]
    },
    {
     "data": {
      "text/plain": [
       "'Очень много'"
      ]
     },
     "execution_count": 24,
     "metadata": {},
     "output_type": "execute_result"
    }
   ],
   "source": [
    "def decorator(function_to_decorate, array):\n",
    "    def wrapper_around_the_function(array):\n",
    "        brray = function_to_decorate(array)\n",
    "        if brray == []:\n",
    "            k = 'Нет'\n",
    "            return k\n",
    "        elif len(brray) > 10:\n",
    "            k = 'Очень много'\n",
    "            return k\n",
    "        else:\n",
    "            return brray\n",
    "    return wrapper_around_the_function\n",
    "\n",
    "\n",
    "def main_function(array):\n",
    "    brray = []\n",
    "    for i in array:\n",
    "        if i % 2 == 0:\n",
    "            brray.append(i)\n",
    "    return brray\n",
    "\n",
    "\n",
    "arr = list(map(int, input().split()))\n",
    "brr = main_function(arr)\n",
    "print(*brr)\n",
    "function_decorated = decorator(main_function, arr)\n",
    "function_decorated(arr)"
   ]
  },
  {
   "cell_type": "code",
   "execution_count": 17,
   "metadata": {},
   "outputs": [
    {
     "data": {
      "text/plain": [
       "2.0"
      ]
     },
     "execution_count": 17,
     "metadata": {},
     "output_type": "execute_result"
    }
   ],
   "source": [
    "def swap(function_to_decorate):\n",
    "    def wrapper_around_the_function(x, y, show):\n",
    "        x, y = y, x\n",
    "        if show:\n",
    "            show = False\n",
    "        else:\n",
    "            show = True\n",
    "        res = x / y\n",
    "        if show:\n",
    "            print(res)\n",
    "        return res\n",
    "    return wrapper_around_the_function\n",
    "\n",
    "@swap\n",
    "def div(x, y, show = False):\n",
    "    res = x / y\n",
    "    if show:\n",
    "        print(res)\n",
    "    return res\n",
    "\n",
    "div(2, 4, show = True)"
   ]
  },
  {
   "cell_type": "markdown",
   "metadata": {},
   "source": []
  },
  {
   "cell_type": "code",
   "execution_count": null,
   "metadata": {},
   "outputs": [],
   "source": [
    "import time\n",
    "\n",
    "def decorator(main_function):\n",
    "    def wrapper_of_the_function(smtg, way):\n",
    "        start = time.time()\n",
    "        main_function(smtg)\n",
    "        end = time.time()\n",
    "        period = end - start\n",
    "        array = []\n",
    "        array.append(start)\n",
    "        array.append(smtg)\n",
    "        array.append(end)\n",
    "        array.append(period)\n",
    "        if period == 0:\n",
    "            array = []\n",
    "            ar = '-'\n",
    "            array.append(ar)\n",
    "        else:\n",
    "            array[2] = smtg\n",
    "        print(array)\n",
    "        with open(\"'\", way, \"'\", \"w\") as output:\n",
    "            output.write(array)\n",
    "        return\n",
    "    return wrapper_of_the_function\n",
    "\n",
    "@decorator\n",
    "def main_function(smtg):\n",
    "    #(функция)"
   ]
  }
 ],
 "metadata": {
  "kernelspec": {
   "display_name": "Python 3",
   "language": "python",
   "name": "python3"
  },
  "language_info": {
   "codemirror_mode": {
    "name": "ipython",
    "version": 3
   },
   "file_extension": ".py",
   "mimetype": "text/x-python",
   "name": "python",
   "nbconvert_exporter": "python",
   "pygments_lexer": "ipython3",
   "version": "3.7.6"
  }
 },
 "nbformat": 4,
 "nbformat_minor": 4
}
